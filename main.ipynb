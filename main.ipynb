{
 "cells": [
  {
   "cell_type": "code",
   "execution_count": 2,
   "metadata": {},
   "outputs": [],
   "source": [
    "import os\n",
    "import re\n",
    "\n",
    "from tqdm import tqdm\n",
    "\n",
    "from bs4 import BeautifulSoup\n",
    "import pandas as pd"
   ]
  },
  {
   "cell_type": "markdown",
   "metadata": {},
   "source": [
    "# Настройки"
   ]
  },
  {
   "cell_type": "code",
   "execution_count": null,
   "metadata": {},
   "outputs": [],
   "source": [
    "HTML_DIR = '/dataset/'"
   ]
  },
  {
   "cell_type": "markdown",
   "metadata": {},
   "source": [
    "# Загрузка исходных данных"
   ]
  },
  {
   "cell_type": "markdown",
   "metadata": {},
   "source": [
    "### Парсинг html-файлов"
   ]
  },
  {
   "cell_type": "code",
   "execution_count": null,
   "metadata": {},
   "outputs": [],
   "source": [
    "def parse_CV(file):\n",
    "    \n",
    "    soup = BeautifulSoup(open(file), 'html.parser')\n",
    "    features_dict = {}\n",
    "\n",
    "    sex = soup.find_all('div', class_ = '')\n",
    "    features_dict['Sex'] = [x.a.text for x in sex]\n",
    "\n",
    "    age = soup.find_all('div', class_ = '')\n",
    "    features_dict['Age'] = [int(re.findall(r'\\d+', x.text)[0]) for x in age]\n",
    "\n",
    "    post = soup.find_all('div', class_ = '')\n",
    "    features_dict['Post'] = [x.a.text for x in post]\n",
    "\n",
    "    education = soup.find_all('div', class_ = '')\n",
    "    features_dict['Education'] = [x.a.text for x in education]\n",
    "\n",
    "    experience = soup.find_all('div', class_ = '')\n",
    "    features_dict['Experience'] = [x.a.text for x in experience]\n",
    "\n",
    "    return features_dict    "
   ]
  },
  {
   "cell_type": "code",
   "execution_count": null,
   "metadata": {},
   "outputs": [],
   "source": [
    "df = pd.DataFrame()\n",
    "\n",
    "for i, file in tqdm(enumerate(os.listdir(HTML_DIR))):\n",
    "    df.iloc[i] = parse_CV(file)"
   ]
  },
  {
   "cell_type": "code",
   "execution_count": null,
   "metadata": {},
   "outputs": [],
   "source": [
    "df"
   ]
  },
  {
   "cell_type": "markdown",
   "metadata": {},
   "source": [
    "# Обработка датасета"
   ]
  },
  {
   "cell_type": "code",
   "execution_count": null,
   "metadata": {},
   "outputs": [],
   "source": []
  }
 ],
 "metadata": {
  "kernelspec": {
   "display_name": "Python 3",
   "language": "python",
   "name": "python3"
  },
  "language_info": {
   "codemirror_mode": {
    "name": "ipython",
    "version": 3
   },
   "file_extension": ".py",
   "mimetype": "text/x-python",
   "name": "python",
   "nbconvert_exporter": "python",
   "pygments_lexer": "ipython3",
   "version": "3.9.13"
  }
 },
 "nbformat": 4,
 "nbformat_minor": 2
}
